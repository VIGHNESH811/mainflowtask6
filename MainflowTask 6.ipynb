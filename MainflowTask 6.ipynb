{
 "cells": [
  {
   "cell_type": "code",
   "execution_count": 99,
   "id": "90a15977-8dd6-402d-8402-6e8e9d7f3db3",
   "metadata": {},
   "outputs": [],
   "source": [
    "import numpy as np\n",
    "import pandas as pd\n",
    "import matplotlib.pyplot as plt \n",
    "import seaborn as sns\n",
    "from datetime import datetime"
   ]
  },
  {
   "cell_type": "code",
   "execution_count": 101,
   "id": "6b62dde3-b75a-43c4-830f-81d28b984a49",
   "metadata": {},
   "outputs": [],
   "source": [
    "df = pd.read_csv(r\"C:\\Users\\HP\\Downloads\\disney_plus_titles.csv\")"
   ]
  },
  {
   "cell_type": "code",
   "execution_count": 103,
   "id": "5f4d67ff-e454-4edc-965e-cd654ecd2f8f",
   "metadata": {},
   "outputs": [
    {
     "data": {
      "text/html": [
       "<div>\n",
       "<style scoped>\n",
       "    .dataframe tbody tr th:only-of-type {\n",
       "        vertical-align: middle;\n",
       "    }\n",
       "\n",
       "    .dataframe tbody tr th {\n",
       "        vertical-align: top;\n",
       "    }\n",
       "\n",
       "    .dataframe thead th {\n",
       "        text-align: right;\n",
       "    }\n",
       "</style>\n",
       "<table border=\"1\" class=\"dataframe\">\n",
       "  <thead>\n",
       "    <tr style=\"text-align: right;\">\n",
       "      <th></th>\n",
       "      <th>show_id</th>\n",
       "      <th>type</th>\n",
       "      <th>title</th>\n",
       "      <th>director</th>\n",
       "      <th>cast</th>\n",
       "      <th>country</th>\n",
       "      <th>date_added</th>\n",
       "      <th>release_year</th>\n",
       "      <th>rating</th>\n",
       "      <th>duration</th>\n",
       "      <th>listed_in</th>\n",
       "      <th>description</th>\n",
       "    </tr>\n",
       "  </thead>\n",
       "  <tbody>\n",
       "    <tr>\n",
       "      <th>0</th>\n",
       "      <td>s1</td>\n",
       "      <td>Movie</td>\n",
       "      <td>A Spark Story</td>\n",
       "      <td>Jason Sterman, Leanne Dare</td>\n",
       "      <td>Apthon Corbin, Louis Gonzales</td>\n",
       "      <td>NaN</td>\n",
       "      <td>September 24, 2021</td>\n",
       "      <td>2021</td>\n",
       "      <td>TV-PG</td>\n",
       "      <td>88 min</td>\n",
       "      <td>Documentary</td>\n",
       "      <td>Two Pixar filmmakers strive to bring their uni...</td>\n",
       "    </tr>\n",
       "    <tr>\n",
       "      <th>1</th>\n",
       "      <td>s2</td>\n",
       "      <td>Movie</td>\n",
       "      <td>Spooky Buddies</td>\n",
       "      <td>Robert Vince</td>\n",
       "      <td>Tucker Albrizzi, Diedrich Bader, Ameko Eks Mas...</td>\n",
       "      <td>United States, Canada</td>\n",
       "      <td>September 24, 2021</td>\n",
       "      <td>2011</td>\n",
       "      <td>G</td>\n",
       "      <td>93 min</td>\n",
       "      <td>Comedy, Fantasy, Kids</td>\n",
       "      <td>The puppies go on a spooky adventure through a...</td>\n",
       "    </tr>\n",
       "    <tr>\n",
       "      <th>2</th>\n",
       "      <td>s3</td>\n",
       "      <td>Movie</td>\n",
       "      <td>The Fault in Our Stars</td>\n",
       "      <td>Josh Boone</td>\n",
       "      <td>Shailene Woodley, Ansel Elgort, Laura Dern, Sa...</td>\n",
       "      <td>United States</td>\n",
       "      <td>September 24, 2021</td>\n",
       "      <td>2014</td>\n",
       "      <td>PG-13</td>\n",
       "      <td>127 min</td>\n",
       "      <td>Coming of Age, Drama, Romance</td>\n",
       "      <td>Hazel and Gus share a love that sweeps them on...</td>\n",
       "    </tr>\n",
       "    <tr>\n",
       "      <th>3</th>\n",
       "      <td>s4</td>\n",
       "      <td>TV Show</td>\n",
       "      <td>Dog: Impossible</td>\n",
       "      <td>NaN</td>\n",
       "      <td>Matt Beisner</td>\n",
       "      <td>United States</td>\n",
       "      <td>September 22, 2021</td>\n",
       "      <td>2019</td>\n",
       "      <td>TV-PG</td>\n",
       "      <td>2 Seasons</td>\n",
       "      <td>Animals &amp; Nature, Docuseries, Family</td>\n",
       "      <td>Matt Beisner uses unique approaches to modifyi...</td>\n",
       "    </tr>\n",
       "    <tr>\n",
       "      <th>4</th>\n",
       "      <td>s5</td>\n",
       "      <td>TV Show</td>\n",
       "      <td>Spidey And His Amazing Friends</td>\n",
       "      <td>NaN</td>\n",
       "      <td>Benjamin Valic, Lily Sanfelippo, Jakari Fraser...</td>\n",
       "      <td>United States</td>\n",
       "      <td>September 22, 2021</td>\n",
       "      <td>2021</td>\n",
       "      <td>TV-Y</td>\n",
       "      <td>1 Season</td>\n",
       "      <td>Action-Adventure, Animation, Kids</td>\n",
       "      <td>Spidey teams up with pals to become The Spidey...</td>\n",
       "    </tr>\n",
       "  </tbody>\n",
       "</table>\n",
       "</div>"
      ],
      "text/plain": [
       "  show_id     type                           title  \\\n",
       "0      s1    Movie                   A Spark Story   \n",
       "1      s2    Movie                  Spooky Buddies   \n",
       "2      s3    Movie          The Fault in Our Stars   \n",
       "3      s4  TV Show                 Dog: Impossible   \n",
       "4      s5  TV Show  Spidey And His Amazing Friends   \n",
       "\n",
       "                     director  \\\n",
       "0  Jason Sterman, Leanne Dare   \n",
       "1                Robert Vince   \n",
       "2                  Josh Boone   \n",
       "3                         NaN   \n",
       "4                         NaN   \n",
       "\n",
       "                                                cast                country  \\\n",
       "0                      Apthon Corbin, Louis Gonzales                    NaN   \n",
       "1  Tucker Albrizzi, Diedrich Bader, Ameko Eks Mas...  United States, Canada   \n",
       "2  Shailene Woodley, Ansel Elgort, Laura Dern, Sa...          United States   \n",
       "3                                       Matt Beisner          United States   \n",
       "4  Benjamin Valic, Lily Sanfelippo, Jakari Fraser...          United States   \n",
       "\n",
       "           date_added  release_year rating   duration  \\\n",
       "0  September 24, 2021          2021  TV-PG     88 min   \n",
       "1  September 24, 2021          2011      G     93 min   \n",
       "2  September 24, 2021          2014  PG-13    127 min   \n",
       "3  September 22, 2021          2019  TV-PG  2 Seasons   \n",
       "4  September 22, 2021          2021   TV-Y   1 Season   \n",
       "\n",
       "                              listed_in  \\\n",
       "0                           Documentary   \n",
       "1                 Comedy, Fantasy, Kids   \n",
       "2         Coming of Age, Drama, Romance   \n",
       "3  Animals & Nature, Docuseries, Family   \n",
       "4     Action-Adventure, Animation, Kids   \n",
       "\n",
       "                                         description  \n",
       "0  Two Pixar filmmakers strive to bring their uni...  \n",
       "1  The puppies go on a spooky adventure through a...  \n",
       "2  Hazel and Gus share a love that sweeps them on...  \n",
       "3  Matt Beisner uses unique approaches to modifyi...  \n",
       "4  Spidey teams up with pals to become The Spidey...  "
      ]
     },
     "execution_count": 103,
     "metadata": {},
     "output_type": "execute_result"
    }
   ],
   "source": [
    "df.head()"
   ]
  },
  {
   "cell_type": "code",
   "execution_count": 105,
   "id": "c60b3c7e-0cea-4850-9983-d626436a2297",
   "metadata": {},
   "outputs": [
    {
     "data": {
      "text/html": [
       "<div>\n",
       "<style scoped>\n",
       "    .dataframe tbody tr th:only-of-type {\n",
       "        vertical-align: middle;\n",
       "    }\n",
       "\n",
       "    .dataframe tbody tr th {\n",
       "        vertical-align: top;\n",
       "    }\n",
       "\n",
       "    .dataframe thead th {\n",
       "        text-align: right;\n",
       "    }\n",
       "</style>\n",
       "<table border=\"1\" class=\"dataframe\">\n",
       "  <thead>\n",
       "    <tr style=\"text-align: right;\">\n",
       "      <th></th>\n",
       "      <th>show_id</th>\n",
       "      <th>type</th>\n",
       "      <th>title</th>\n",
       "      <th>director</th>\n",
       "      <th>cast</th>\n",
       "      <th>country</th>\n",
       "      <th>date_added</th>\n",
       "      <th>release_year</th>\n",
       "      <th>rating</th>\n",
       "      <th>duration</th>\n",
       "      <th>listed_in</th>\n",
       "      <th>description</th>\n",
       "    </tr>\n",
       "  </thead>\n",
       "  <tbody>\n",
       "    <tr>\n",
       "      <th>1363</th>\n",
       "      <td>s1364</td>\n",
       "      <td>Movie</td>\n",
       "      <td>The Sword in the Stone</td>\n",
       "      <td>Wolfgang Reitherman</td>\n",
       "      <td>Sebastian Cabot, Karl Swenson, Rickie Sorensen...</td>\n",
       "      <td>United States</td>\n",
       "      <td>October 1, 2019</td>\n",
       "      <td>1963</td>\n",
       "      <td>G</td>\n",
       "      <td>80 min</td>\n",
       "      <td>Action-Adventure, Animation, Comedy</td>\n",
       "      <td>Merlin trains a young orphan who's destined to...</td>\n",
       "    </tr>\n",
       "    <tr>\n",
       "      <th>1364</th>\n",
       "      <td>s1365</td>\n",
       "      <td>Movie</td>\n",
       "      <td>Those Calloways</td>\n",
       "      <td>Norman Tokar</td>\n",
       "      <td>Brian Keith, Vera Miles, Brandon de Wilde, Wal...</td>\n",
       "      <td>United States</td>\n",
       "      <td>October 1, 2019</td>\n",
       "      <td>1965</td>\n",
       "      <td>PG</td>\n",
       "      <td>132 min</td>\n",
       "      <td>Animals &amp; Nature, Drama, Family</td>\n",
       "      <td>A strong-willed family struggles to establish ...</td>\n",
       "    </tr>\n",
       "    <tr>\n",
       "      <th>1365</th>\n",
       "      <td>s1366</td>\n",
       "      <td>TV Show</td>\n",
       "      <td>Disney Kirby Buckets</td>\n",
       "      <td>NaN</td>\n",
       "      <td>Jacob Bertrand, Mekai Curtis, Cade Sutton, Oli...</td>\n",
       "      <td>United States</td>\n",
       "      <td>NaN</td>\n",
       "      <td>2014</td>\n",
       "      <td>TV-Y7</td>\n",
       "      <td>3 Seasons</td>\n",
       "      <td>Action-Adventure, Comedy, Coming of Age</td>\n",
       "      <td>Welcome to Kirby's world! It's rude and sketchy.</td>\n",
       "    </tr>\n",
       "    <tr>\n",
       "      <th>1366</th>\n",
       "      <td>s1367</td>\n",
       "      <td>TV Show</td>\n",
       "      <td>Disney Mech-X4</td>\n",
       "      <td>NaN</td>\n",
       "      <td>Nathaniel Potvin, Raymond Cham, Kamran Lucas, ...</td>\n",
       "      <td>Canada</td>\n",
       "      <td>NaN</td>\n",
       "      <td>2016</td>\n",
       "      <td>TV-Y7</td>\n",
       "      <td>2 Seasons</td>\n",
       "      <td>Action-Adventure, Comedy, Science Fiction</td>\n",
       "      <td>Ryan discovers his ability to control a giant ...</td>\n",
       "    </tr>\n",
       "    <tr>\n",
       "      <th>1367</th>\n",
       "      <td>s1368</td>\n",
       "      <td>TV Show</td>\n",
       "      <td>Imagination Movers</td>\n",
       "      <td>NaN</td>\n",
       "      <td>Rich Collins, Dave Poche, Scott Durbin, Scott ...</td>\n",
       "      <td>United States</td>\n",
       "      <td>NaN</td>\n",
       "      <td>2008</td>\n",
       "      <td>TV-Y</td>\n",
       "      <td>3 Seasons</td>\n",
       "      <td>Kids, Music</td>\n",
       "      <td>Rock out with the Imagination Movers, Disney J...</td>\n",
       "    </tr>\n",
       "  </tbody>\n",
       "</table>\n",
       "</div>"
      ],
      "text/plain": [
       "     show_id     type                   title             director  \\\n",
       "1363   s1364    Movie  The Sword in the Stone  Wolfgang Reitherman   \n",
       "1364   s1365    Movie         Those Calloways         Norman Tokar   \n",
       "1365   s1366  TV Show    Disney Kirby Buckets                  NaN   \n",
       "1366   s1367  TV Show          Disney Mech-X4                  NaN   \n",
       "1367   s1368  TV Show      Imagination Movers                  NaN   \n",
       "\n",
       "                                                   cast        country  \\\n",
       "1363  Sebastian Cabot, Karl Swenson, Rickie Sorensen...  United States   \n",
       "1364  Brian Keith, Vera Miles, Brandon de Wilde, Wal...  United States   \n",
       "1365  Jacob Bertrand, Mekai Curtis, Cade Sutton, Oli...  United States   \n",
       "1366  Nathaniel Potvin, Raymond Cham, Kamran Lucas, ...         Canada   \n",
       "1367  Rich Collins, Dave Poche, Scott Durbin, Scott ...  United States   \n",
       "\n",
       "           date_added  release_year rating   duration  \\\n",
       "1363  October 1, 2019          1963      G     80 min   \n",
       "1364  October 1, 2019          1965     PG    132 min   \n",
       "1365              NaN          2014  TV-Y7  3 Seasons   \n",
       "1366              NaN          2016  TV-Y7  2 Seasons   \n",
       "1367              NaN          2008   TV-Y  3 Seasons   \n",
       "\n",
       "                                      listed_in  \\\n",
       "1363        Action-Adventure, Animation, Comedy   \n",
       "1364            Animals & Nature, Drama, Family   \n",
       "1365    Action-Adventure, Comedy, Coming of Age   \n",
       "1366  Action-Adventure, Comedy, Science Fiction   \n",
       "1367                                Kids, Music   \n",
       "\n",
       "                                            description  \n",
       "1363  Merlin trains a young orphan who's destined to...  \n",
       "1364  A strong-willed family struggles to establish ...  \n",
       "1365   Welcome to Kirby's world! It's rude and sketchy.  \n",
       "1366  Ryan discovers his ability to control a giant ...  \n",
       "1367  Rock out with the Imagination Movers, Disney J...  "
      ]
     },
     "execution_count": 105,
     "metadata": {},
     "output_type": "execute_result"
    }
   ],
   "source": [
    "df.tail()"
   ]
  },
  {
   "cell_type": "code",
   "execution_count": 107,
   "id": "fe28862e-5b77-4f6c-848d-88040a6522a5",
   "metadata": {},
   "outputs": [
    {
     "name": "stdout",
     "output_type": "stream",
     "text": [
      "<class 'pandas.core.frame.DataFrame'>\n",
      "RangeIndex: 1368 entries, 0 to 1367\n",
      "Data columns (total 12 columns):\n",
      " #   Column        Non-Null Count  Dtype \n",
      "---  ------        --------------  ----- \n",
      " 0   show_id       1368 non-null   object\n",
      " 1   type          1368 non-null   object\n",
      " 2   title         1368 non-null   object\n",
      " 3   director      928 non-null    object\n",
      " 4   cast          1194 non-null   object\n",
      " 5   country       1193 non-null   object\n",
      " 6   date_added    1365 non-null   object\n",
      " 7   release_year  1368 non-null   int64 \n",
      " 8   rating        1366 non-null   object\n",
      " 9   duration      1368 non-null   object\n",
      " 10  listed_in     1368 non-null   object\n",
      " 11  description   1368 non-null   object\n",
      "dtypes: int64(1), object(11)\n",
      "memory usage: 128.4+ KB\n"
     ]
    }
   ],
   "source": [
    "df.info()"
   ]
  },
  {
   "cell_type": "code",
   "execution_count": 109,
   "id": "addcfe2e-3f59-4acf-8af9-950ac7f7db04",
   "metadata": {},
   "outputs": [
    {
     "data": {
      "text/html": [
       "<div>\n",
       "<style scoped>\n",
       "    .dataframe tbody tr th:only-of-type {\n",
       "        vertical-align: middle;\n",
       "    }\n",
       "\n",
       "    .dataframe tbody tr th {\n",
       "        vertical-align: top;\n",
       "    }\n",
       "\n",
       "    .dataframe thead th {\n",
       "        text-align: right;\n",
       "    }\n",
       "</style>\n",
       "<table border=\"1\" class=\"dataframe\">\n",
       "  <thead>\n",
       "    <tr style=\"text-align: right;\">\n",
       "      <th></th>\n",
       "      <th>release_year</th>\n",
       "    </tr>\n",
       "  </thead>\n",
       "  <tbody>\n",
       "    <tr>\n",
       "      <th>count</th>\n",
       "      <td>1368.000000</td>\n",
       "    </tr>\n",
       "    <tr>\n",
       "      <th>mean</th>\n",
       "      <td>2002.348684</td>\n",
       "    </tr>\n",
       "    <tr>\n",
       "      <th>std</th>\n",
       "      <td>22.127559</td>\n",
       "    </tr>\n",
       "    <tr>\n",
       "      <th>min</th>\n",
       "      <td>1928.000000</td>\n",
       "    </tr>\n",
       "    <tr>\n",
       "      <th>25%</th>\n",
       "      <td>1998.000000</td>\n",
       "    </tr>\n",
       "    <tr>\n",
       "      <th>50%</th>\n",
       "      <td>2011.000000</td>\n",
       "    </tr>\n",
       "    <tr>\n",
       "      <th>75%</th>\n",
       "      <td>2018.000000</td>\n",
       "    </tr>\n",
       "    <tr>\n",
       "      <th>max</th>\n",
       "      <td>2021.000000</td>\n",
       "    </tr>\n",
       "  </tbody>\n",
       "</table>\n",
       "</div>"
      ],
      "text/plain": [
       "       release_year\n",
       "count   1368.000000\n",
       "mean    2002.348684\n",
       "std       22.127559\n",
       "min     1928.000000\n",
       "25%     1998.000000\n",
       "50%     2011.000000\n",
       "75%     2018.000000\n",
       "max     2021.000000"
      ]
     },
     "execution_count": 109,
     "metadata": {},
     "output_type": "execute_result"
    }
   ],
   "source": [
    "df.describe()"
   ]
  },
  {
   "cell_type": "code",
   "execution_count": 111,
   "id": "9db7354c-a698-48b8-85ff-05ccb44ecf60",
   "metadata": {},
   "outputs": [
    {
     "data": {
      "image/png": "[encoded data removed]",
      "text/plain": [
       "<Figure size 1500x1000 with 1 Axes>"
      ]
     },
     "metadata": {},
     "output_type": "display_data"
    }
   ],
   "source": [
    "df.hist(bins = 50,grid = False, figsize = (15,10));"
   ]
  },
  {
   "cell_type": "code",
   "execution_count": 112,
   "id": "3e3a7d23-cc45-445e-bb07-48dbdfd0a02c",
   "metadata": {},
   "outputs": [],
   "source": [
    "#Q1) How many shows were added over the time?"
   ]
  },
  {
   "cell_type": "code",
   "execution_count": 113,
   "id": "3441170a-258b-4121-9808-8c68d42a7ea9",
   "metadata": {},
   "outputs": [],
   "source": [
    "from datetime import datetime"
   ]
  },
  {
   "cell_type": "code",
   "execution_count": 114,
   "id": "666c7280-db9c-4bd7-94b1-752c55f9175a",
   "metadata": {},
   "outputs": [],
   "source": [
    "import datetime"
   ]
  },
  {
   "cell_type": "code",
   "execution_count": 119,
   "id": "4af3d1a9-201c-44b8-9cd3-5ff713970875",
   "metadata": {},
   "outputs": [
    {
     "name": "stdout",
     "output_type": "stream",
     "text": [
      "Index(['show_id', 'type', 'title', 'director', 'cast', 'country', 'date_added',\n",
      "       'release_year', 'rating', 'duration', 'listed_in', 'description'],\n",
      "      dtype='object')\n"
     ]
    }
   ],
   "source": [
    "print(df.columns)"
   ]
  },
  {
   "cell_type": "code",
   "execution_count": 121,
   "id": "5b522823-2c90-4cdb-bb70-4228267411e5",
   "metadata": {},
   "outputs": [
    {
     "data": {
      "text/html": [
       "<div>\n",
       "<style scoped>\n",
       "    .dataframe tbody tr th:only-of-type {\n",
       "        vertical-align: middle;\n",
       "    }\n",
       "\n",
       "    .dataframe tbody tr th {\n",
       "        vertical-align: top;\n",
       "    }\n",
       "\n",
       "    .dataframe thead th {\n",
       "        text-align: right;\n",
       "    }\n",
       "</style>\n",
       "<table border=\"1\" class=\"dataframe\">\n",
       "  <thead>\n",
       "    <tr style=\"text-align: right;\">\n",
       "      <th></th>\n",
       "      <th>show_id</th>\n",
       "      <th>type</th>\n",
       "      <th>title</th>\n",
       "      <th>director</th>\n",
       "      <th>cast</th>\n",
       "      <th>country</th>\n",
       "      <th>date_added</th>\n",
       "      <th>release_year</th>\n",
       "      <th>rating</th>\n",
       "      <th>duration</th>\n",
       "      <th>listed_in</th>\n",
       "      <th>description</th>\n",
       "    </tr>\n",
       "  </thead>\n",
       "  <tbody>\n",
       "    <tr>\n",
       "      <th>0</th>\n",
       "      <td>s1</td>\n",
       "      <td>Movie</td>\n",
       "      <td>A Spark Story</td>\n",
       "      <td>Jason Sterman, Leanne Dare</td>\n",
       "      <td>Apthon Corbin, Louis Gonzales</td>\n",
       "      <td>NaN</td>\n",
       "      <td>2021-09-24</td>\n",
       "      <td>2021</td>\n",
       "      <td>TV-PG</td>\n",
       "      <td>88 min</td>\n",
       "      <td>Documentary</td>\n",
       "      <td>Two Pixar filmmakers strive to bring their uni...</td>\n",
       "    </tr>\n",
       "    <tr>\n",
       "      <th>1</th>\n",
       "      <td>s2</td>\n",
       "      <td>Movie</td>\n",
       "      <td>Spooky Buddies</td>\n",
       "      <td>Robert Vince</td>\n",
       "      <td>Tucker Albrizzi, Diedrich Bader, Ameko Eks Mas...</td>\n",
       "      <td>United States, Canada</td>\n",
       "      <td>2021-09-24</td>\n",
       "      <td>2011</td>\n",
       "      <td>G</td>\n",
       "      <td>93 min</td>\n",
       "      <td>Comedy, Fantasy, Kids</td>\n",
       "      <td>The puppies go on a spooky adventure through a...</td>\n",
       "    </tr>\n",
       "    <tr>\n",
       "      <th>2</th>\n",
       "      <td>s3</td>\n",
       "      <td>Movie</td>\n",
       "      <td>The Fault in Our Stars</td>\n",
       "      <td>Josh Boone</td>\n",
       "      <td>Shailene Woodley, Ansel Elgort, Laura Dern, Sa...</td>\n",
       "      <td>United States</td>\n",
       "      <td>2021-09-24</td>\n",
       "      <td>2014</td>\n",
       "      <td>PG-13</td>\n",
       "      <td>127 min</td>\n",
       "      <td>Coming of Age, Drama, Romance</td>\n",
       "      <td>Hazel and Gus share a love that sweeps them on...</td>\n",
       "    </tr>\n",
       "  </tbody>\n",
       "</table>\n",
       "</div>"
      ],
      "text/plain": [
       "  show_id   type                   title                    director  \\\n",
       "0      s1  Movie           A Spark Story  Jason Sterman, Leanne Dare   \n",
       "1      s2  Movie          Spooky Buddies                Robert Vince   \n",
       "2      s3  Movie  The Fault in Our Stars                  Josh Boone   \n",
       "\n",
       "                                                cast                country  \\\n",
       "0                      Apthon Corbin, Louis Gonzales                    NaN   \n",
       "1  Tucker Albrizzi, Diedrich Bader, Ameko Eks Mas...  United States, Canada   \n",
       "2  Shailene Woodley, Ansel Elgort, Laura Dern, Sa...          United States   \n",
       "\n",
       "  date_added  release_year rating duration                      listed_in  \\\n",
       "0 2021-09-24          2021  TV-PG   88 min                    Documentary   \n",
       "1 2021-09-24          2011      G   93 min          Comedy, Fantasy, Kids   \n",
       "2 2021-09-24          2014  PG-13  127 min  Coming of Age, Drama, Romance   \n",
       "\n",
       "                                         description  \n",
       "0  Two Pixar filmmakers strive to bring their uni...  \n",
       "1  The puppies go on a spooky adventure through a...  \n",
       "2  Hazel and Gus share a love that sweeps them on...  "
      ]
     },
     "execution_count": 121,
     "metadata": {},
     "output_type": "execute_result"
    }
   ],
   "source": [
    "df['date_added'] = pd.to_datetime(df['date_added'])\n",
    "df.head(3)"
   ]
  },
  {
   "cell_type": "code",
   "execution_count": 123,
   "id": "8b6710f6-2446-4e4a-8e75-3f6370840980",
   "metadata": {},
   "outputs": [
    {
     "data": {
      "text/html": [
       "<div>\n",
       "<style scoped>\n",
       "    .dataframe tbody tr th:only-of-type {\n",
       "        vertical-align: middle;\n",
       "    }\n",
       "\n",
       "    .dataframe tbody tr th {\n",
       "        vertical-align: top;\n",
       "    }\n",
       "\n",
       "    .dataframe thead th {\n",
       "        text-align: right;\n",
       "    }\n",
       "</style>\n",
       "<table border=\"1\" class=\"dataframe\">\n",
       "  <thead>\n",
       "    <tr style=\"text-align: right;\">\n",
       "      <th></th>\n",
       "      <th>show_id</th>\n",
       "      <th>type</th>\n",
       "      <th>title</th>\n",
       "      <th>director</th>\n",
       "      <th>cast</th>\n",
       "      <th>country</th>\n",
       "      <th>date_added</th>\n",
       "      <th>release_year</th>\n",
       "      <th>rating</th>\n",
       "      <th>duration</th>\n",
       "      <th>listed_in</th>\n",
       "      <th>description</th>\n",
       "    </tr>\n",
       "  </thead>\n",
       "  <tbody>\n",
       "    <tr>\n",
       "      <th>0</th>\n",
       "      <td>s1</td>\n",
       "      <td>Movie</td>\n",
       "      <td>A Spark Story</td>\n",
       "      <td>Jason Sterman, Leanne Dare</td>\n",
       "      <td>Apthon Corbin, Louis Gonzales</td>\n",
       "      <td>NaN</td>\n",
       "      <td>2021-09-24</td>\n",
       "      <td>2021</td>\n",
       "      <td>TV-PG</td>\n",
       "      <td>88 min</td>\n",
       "      <td>Documentary</td>\n",
       "      <td>Two Pixar filmmakers strive to bring their uni...</td>\n",
       "    </tr>\n",
       "    <tr>\n",
       "      <th>1</th>\n",
       "      <td>s2</td>\n",
       "      <td>Movie</td>\n",
       "      <td>Spooky Buddies</td>\n",
       "      <td>Robert Vince</td>\n",
       "      <td>Tucker Albrizzi, Diedrich Bader, Ameko Eks Mas...</td>\n",
       "      <td>United States, Canada</td>\n",
       "      <td>2021-09-24</td>\n",
       "      <td>2011</td>\n",
       "      <td>G</td>\n",
       "      <td>93 min</td>\n",
       "      <td>Comedy, Fantasy, Kids</td>\n",
       "      <td>The puppies go on a spooky adventure through a...</td>\n",
       "    </tr>\n",
       "    <tr>\n",
       "      <th>2</th>\n",
       "      <td>s3</td>\n",
       "      <td>Movie</td>\n",
       "      <td>The Fault in Our Stars</td>\n",
       "      <td>Josh Boone</td>\n",
       "      <td>Shailene Woodley, Ansel Elgort, Laura Dern, Sa...</td>\n",
       "      <td>United States</td>\n",
       "      <td>2021-09-24</td>\n",
       "      <td>2014</td>\n",
       "      <td>PG-13</td>\n",
       "      <td>127 min</td>\n",
       "      <td>Coming of Age, Drama, Romance</td>\n",
       "      <td>Hazel and Gus share a love that sweeps them on...</td>\n",
       "    </tr>\n",
       "  </tbody>\n",
       "</table>\n",
       "</div>"
      ],
      "text/plain": [
       "  show_id   type                   title                    director  \\\n",
       "0      s1  Movie           A Spark Story  Jason Sterman, Leanne Dare   \n",
       "1      s2  Movie          Spooky Buddies                Robert Vince   \n",
       "2      s3  Movie  The Fault in Our Stars                  Josh Boone   \n",
       "\n",
       "                                                cast                country  \\\n",
       "0                      Apthon Corbin, Louis Gonzales                    NaN   \n",
       "1  Tucker Albrizzi, Diedrich Bader, Ameko Eks Mas...  United States, Canada   \n",
       "2  Shailene Woodley, Ansel Elgort, Laura Dern, Sa...          United States   \n",
       "\n",
       "  date_added  release_year rating duration                      listed_in  \\\n",
       "0 2021-09-24          2021  TV-PG   88 min                    Documentary   \n",
       "1 2021-09-24          2011      G   93 min          Comedy, Fantasy, Kids   \n",
       "2 2021-09-24          2014  PG-13  127 min  Coming of Age, Drama, Romance   \n",
       "\n",
       "                                         description  \n",
       "0  Two Pixar filmmakers strive to bring their uni...  \n",
       "1  The puppies go on a spooky adventure through a...  \n",
       "2  Hazel and Gus share a love that sweeps them on...  "
      ]
     },
     "execution_count": 123,
     "metadata": {},
     "output_type": "execute_result"
    }
   ],
   "source": [
    "time_series_data = df['date_added'].value_counts().sort_index()\n",
    "df.head(3)"
   ]
  },
  {
   "cell_type": "code",
   "execution_count": 125,
   "id": "fd005754-0849-4187-a489-021203f10aba",
   "metadata": {},
   "outputs": [
    {
     "name": "stderr",
     "output_type": "stream",
     "text": [
      "C:\\Users\\HP\\AppData\\Local\\Temp\\ipykernel_7596\\2545316088.py:1: FutureWarning: 'M' is deprecated and will be removed in a future version, please use 'ME' instead.\n",
      "  time_series_data = time_series_data.resample('M').sum()\n"
     ]
    },
    {
     "data": {
      "text/html": [
       "<div>\n",
       "<style scoped>\n",
       "    .dataframe tbody tr th:only-of-type {\n",
       "        vertical-align: middle;\n",
       "    }\n",
       "\n",
       "    .dataframe tbody tr th {\n",
       "        vertical-align: top;\n",
       "    }\n",
       "\n",
       "    .dataframe thead th {\n",
       "        text-align: right;\n",
       "    }\n",
       "</style>\n",
       "<table border=\"1\" class=\"dataframe\">\n",
       "  <thead>\n",
       "    <tr style=\"text-align: right;\">\n",
       "      <th></th>\n",
       "      <th>show_id</th>\n",
       "      <th>type</th>\n",
       "      <th>title</th>\n",
       "      <th>director</th>\n",
       "      <th>cast</th>\n",
       "      <th>country</th>\n",
       "      <th>date_added</th>\n",
       "      <th>release_year</th>\n",
       "      <th>rating</th>\n",
       "      <th>duration</th>\n",
       "      <th>listed_in</th>\n",
       "      <th>description</th>\n",
       "    </tr>\n",
       "  </thead>\n",
       "  <tbody>\n",
       "    <tr>\n",
       "      <th>0</th>\n",
       "      <td>s1</td>\n",
       "      <td>Movie</td>\n",
       "      <td>A Spark Story</td>\n",
       "      <td>Jason Sterman, Leanne Dare</td>\n",
       "      <td>Apthon Corbin, Louis Gonzales</td>\n",
       "      <td>NaN</td>\n",
       "      <td>2021-09-24</td>\n",
       "      <td>2021</td>\n",
       "      <td>TV-PG</td>\n",
       "      <td>88 min</td>\n",
       "      <td>Documentary</td>\n",
       "      <td>Two Pixar filmmakers strive to bring their uni...</td>\n",
       "    </tr>\n",
       "    <tr>\n",
       "      <th>1</th>\n",
       "      <td>s2</td>\n",
       "      <td>Movie</td>\n",
       "      <td>Spooky Buddies</td>\n",
       "      <td>Robert Vince</td>\n",
       "      <td>Tucker Albrizzi, Diedrich Bader, Ameko Eks Mas...</td>\n",
       "      <td>United States, Canada</td>\n",
       "      <td>2021-09-24</td>\n",
       "      <td>2011</td>\n",
       "      <td>G</td>\n",
       "      <td>93 min</td>\n",
       "      <td>Comedy, Fantasy, Kids</td>\n",
       "      <td>The puppies go on a spooky adventure through a...</td>\n",
       "    </tr>\n",
       "  </tbody>\n",
       "</table>\n",
       "</div>"
      ],
      "text/plain": [
       "  show_id   type           title                    director  \\\n",
       "0      s1  Movie   A Spark Story  Jason Sterman, Leanne Dare   \n",
       "1      s2  Movie  Spooky Buddies                Robert Vince   \n",
       "\n",
       "                                                cast                country  \\\n",
       "0                      Apthon Corbin, Louis Gonzales                    NaN   \n",
       "1  Tucker Albrizzi, Diedrich Bader, Ameko Eks Mas...  United States, Canada   \n",
       "\n",
       "  date_added  release_year rating duration              listed_in  \\\n",
       "0 2021-09-24          2021  TV-PG   88 min            Documentary   \n",
       "1 2021-09-24          2011      G   93 min  Comedy, Fantasy, Kids   \n",
       "\n",
       "                                         description  \n",
       "0  Two Pixar filmmakers strive to bring their uni...  \n",
       "1  The puppies go on a spooky adventure through a...  "
      ]
     },
     "execution_count": 125,
     "metadata": {},
     "output_type": "execute_result"
    }
   ],
   "source": [
    "time_series_data = time_series_data.resample('M').sum()\n",
    "df.head(2)"
   ]
  },
  {
   "cell_type": "code",
   "execution_count": 127,
   "id": "70c86ea6-4ad8-4d02-b931-16a057654f3a",
   "metadata": {},
   "outputs": [
    {
     "data": {
      "image/png": "[encoded data removed]",
      "text/plain": [
       "<Figure size 1000x600 with 1 Axes>"
      ]
     },
     "metadata": {},
     "output_type": "display_data"
    }
   ],
   "source": [
    "plt.figure(figsize=(10, 6))\n",
    "plt.plot(time_series_data)\n",
    "plt.title('Number of Shows Added Over Time')\n",
    "plt.xlabel('Date')\n",
    "plt.ylabel('Number of Shows')\n",
    "plt.show()"
   ]
  },
  {
   "cell_type": "code",
   "execution_count": 128,
   "id": "d7b91494-46bf-41cb-a034-4b6cc90d33d9",
   "metadata": {},
   "outputs": [],
   "source": [
    "#Q2 Analyze the sentiment of the show. "
   ]
  },
  {
   "cell_type": "code",
   "execution_count": 129,
   "id": "7bd45443-9258-485d-8f3c-709f849e7eb7",
   "metadata": {},
   "outputs": [],
   "source": [
    "import nltk\n",
    "from nltk.sentiment.vader import SentimentIntensityAnalyzer"
   ]
  },
  {
   "cell_type": "code",
   "execution_count": 130,
   "id": "de2fc73b-eda7-4dc8-a011-fdf63ec904d3",
   "metadata": {},
   "outputs": [
    {
     "name": "stderr",
     "output_type": "stream",
     "text": [
      "[nltk_data] Downloading package vader_lexicon to\n",
      "[nltk_data]     C:\\Users\\HP\\AppData\\Roaming\\nltk_data...\n",
      "[nltk_data]   Package vader_lexicon is already up-to-date!\n"
     ]
    },
    {
     "data": {
      "text/plain": [
       "True"
      ]
     },
     "execution_count": 130,
     "metadata": {},
     "output_type": "execute_result"
    }
   ],
   "source": [
    "nltk.download('vader_lexicon')"
   ]
  },
  {
   "cell_type": "code",
   "execution_count": 134,
   "id": "f1f455b6-9de5-4caf-85cf-915475af5469",
   "metadata": {},
   "outputs": [
    {
     "name": "stdout",
     "output_type": "stream",
     "text": [
      "                            title  \\\n",
      "0                   A Spark Story   \n",
      "1                  Spooky Buddies   \n",
      "2          The Fault in Our Stars   \n",
      "3                 Dog: Impossible   \n",
      "4  Spidey And His Amazing Friends   \n",
      "\n",
      "                                         description  sentiment  \n",
      "0  Two Pixar filmmakers strive to bring their uni...     0.2263  \n",
      "1  The puppies go on a spooky adventure through a...    -0.2023  \n",
      "2  Hazel and Gus share a love that sweeps them on...     0.7506  \n",
      "3  Matt Beisner uses unique approaches to modifyi...     0.0000  \n",
      "4  Spidey teams up with pals to become The Spidey...     0.0000  \n"
     ]
    }
   ],
   "source": [
    "# Initialize the sentiment analyzer\n",
    "sid = SentimentIntensityAnalyzer()\n",
    "\n",
    "# Apply sentiment analysis on the description column\n",
    "df['sentiment'] = df['description'].apply(lambda x: sid.polarity_scores(x)['compound'])\n",
    "\n",
    "# Display the first few rows with sentiment scores\n",
    "print(df[['title', 'description', 'sentiment']].head())\n"
   ]
  },
  {
   "cell_type": "code",
   "execution_count": 135,
   "id": "755ba1c7-3c14-464e-867a-abef4affb089",
   "metadata": {},
   "outputs": [
    {
     "data": {
      "image/png": "[encoded data removed]",
      "text/plain": [
       "<Figure size 800x600 with 1 Axes>"
      ]
     },
     "metadata": {},
     "output_type": "display_data"
    }
   ],
   "source": [
    "# Categorize sentiment scores\n",
    "def categorize_sentiment(score):\n",
    "    if score > 0.05:\n",
    "        return 'Positive'\n",
    "    elif score < -0.05:\n",
    "        return 'Negative'\n",
    "    else:\n",
    "        return 'Neutral'\n",
    "\n",
    "# Apply categorization\n",
    "df['sentiment_category'] = df['sentiment'].apply(categorize_sentiment)\n",
    "\n",
    "# Plot the sentiment distribution \n",
    "plt.figure(figsize=(8, 6))\n",
    "df['sentiment_category'].value_counts().plot(kind='pie', autopct='%1.1f%%', colors=['green', 'yellow', 'crimson'])\n",
    "plt.title('Sentiment Distribution of Disney+ Titles')\n",
    "plt.ylabel('')  # Remove the y-label for clarity\n",
    "plt.show()\n"
   ]
  },
  {
   "cell_type": "code",
   "execution_count": 137,
   "id": "a6f33bdc-4cb6-41a6-ae37-a70cbd1c5721",
   "metadata": {},
   "outputs": [],
   "source": [
    "#Q3) "
   ]
  },
  {
   "cell_type": "code",
   "execution_count": 149,
   "id": "13404638-b324-4d97-a1e9-e8b047df07b4",
   "metadata": {},
   "outputs": [],
   "source": [
    "from sklearn.cluster import KMeans\n",
    "from sklearn.preprocessing import LabelEncoder, StandardScaler\n",
    "from sklearn.cluster import SpectralClustering"
   ]
  },
  {
   "cell_type": "code",
   "execution_count": 151,
   "id": "44f9c711-c9e6-4324-8d89-f0afe2e2bf70",
   "metadata": {},
   "outputs": [],
   "source": [
    "# Encode categorical variables\n",
    "label_encoder = LabelEncoder()\n",
    "df['rating_encoded'] = label_encoder.fit_transform(df['rating'])\n",
    "df['genre_encoded'] = label_encoder.fit_transform(df['listed_in'])\n",
    "\n",
    "# Extract relevant features\n",
    "features = df[['rating_encoded', 'genre_encoded']]\n",
    "\n",
    "# Standardize the features\n",
    "scaler = StandardScaler()\n",
    "features_scaled = scaler.fit_transform(features)\n"
   ]
  },
  {
   "cell_type": "code",
   "execution_count": 153,
   "id": "1cf31f3c-ca2f-4353-ab97-333a593b420f",
   "metadata": {},
   "outputs": [
    {
     "name": "stdout",
     "output_type": "stream",
     "text": [
      "                            title rating  \\\n",
      "0                   A Spark Story  TV-PG   \n",
      "1                  Spooky Buddies      G   \n",
      "2          The Fault in Our Stars  PG-13   \n",
      "3                 Dog: Impossible  TV-PG   \n",
      "4  Spidey And His Amazing Friends   TV-Y   \n",
      "\n",
      "                              listed_in  cluster  \n",
      "0                           Documentary        1  \n",
      "1                 Comedy, Fantasy, Kids        1  \n",
      "2         Coming of Age, Drama, Romance        1  \n",
      "3  Animals & Nature, Docuseries, Family        2  \n",
      "4     Action-Adventure, Animation, Kids        2  \n"
     ]
    },
    {
     "name": "stderr",
     "output_type": "stream",
     "text": [
      "C:\\Users\\HP\\anaconda3\\Lib\\site-packages\\sklearn\\cluster\\_kmeans.py:1446: UserWarning: KMeans is known to have a memory leak on Windows with MKL, when there are less chunks than available threads. You can avoid it by setting the environment variable OMP_NUM_THREADS=6.\n",
      "  warnings.warn(\n"
     ]
    }
   ],
   "source": [
    "# Apply K-Means Clustering\n",
    "kmeans = KMeans(n_clusters=3)  # You can adjust the number of clusters\n",
    "df['cluster'] = kmeans.fit_predict(features_scaled)\n",
    "\n",
    "# Display the cluster assignments\n",
    "print(df[['title', 'rating', 'listed_in', 'cluster']].head())\n"
   ]
  },
  {
   "cell_type": "code",
   "execution_count": 155,
   "id": "c410e625-935e-4619-9c5c-f113ebd7453e",
   "metadata": {},
   "outputs": [
    {
     "name": "stderr",
     "output_type": "stream",
     "text": [
      "C:\\Users\\HP\\anaconda3\\Lib\\site-packages\\sklearn\\manifold\\_spectral_embedding.py:301: UserWarning: Graph is not fully connected, spectral embedding may not work as expected.\n",
      "  warnings.warn(\n",
      "C:\\Users\\HP\\anaconda3\\Lib\\site-packages\\sklearn\\cluster\\_kmeans.py:1446: UserWarning: KMeans is known to have a memory leak on Windows with MKL, when there are less chunks than available threads. You can avoid it by setting the environment variable OMP_NUM_THREADS=6.\n",
      "  warnings.warn(\n"
     ]
    },
    {
     "data": {
      "image/png": "[encoded data removed]",
      "text/plain": [
       "<Figure size 800x600 with 1 Axes>"
      ]
     },
     "metadata": {},
     "output_type": "display_data"
    }
   ],
   "source": [
    "# Encode categorical features\n",
    "label_encoder = LabelEncoder()\n",
    "df['rating_encoded'] = label_encoder.fit_transform(df['rating'])\n",
    "\n",
    "# Extract features for clustering\n",
    "X = df[['rating_encoded']]\n",
    "\n",
    "# Apply Spectral Clustering\n",
    "spectral_clustering = SpectralClustering(n_clusters=3, affinity='nearest_neighbors', random_state=42)\n",
    "df['cluster'] = spectral_clustering.fit_predict(X)\n",
    "\n",
    "# Plot the clusters (using a simple scatter plot)\n",
    "plt.figure(figsize=(8, 6))\n",
    "plt.scatter(X['rating_encoded'], [0]*len(X), c=df['cluster'], cmap='viridis')\n",
    "plt.title('Graph-Based Clustering of Disney+ Titles Based on Ratings')\n",
    "plt.xlabel('Rating')\n",
    "plt.show()\n"
   ]
  },
  {
   "cell_type": "code",
   "execution_count": null,
   "id": "66854a82-5e90-4588-8da7-664e7e920193",
   "metadata": {},
   "outputs": [],
   "source": [
    "\n"
   ]
  },
  {
   "cell_type": "code",
   "execution_count": null,
   "id": "9182e15f-64c8-4a92-93e3-90d299fbdbb5",
   "metadata": {},
   "outputs": [],
   "source": [
    "#Q4) Predict the accuracy of the model. "
   ]
  },
  {
   "cell_type": "code",
   "execution_count": null,
   "id": "a6ab170b-9030-487d-add9-2f143d9cfea3",
   "metadata": {},
   "outputs": [],
   "source": [
    "from sklearn.model_selection import train_test_split"
   ]
  },
  {
   "cell_type": "code",
   "execution_count": null,
   "id": "fdd22b78-da98-4756-abe3-93f2b118dec9",
   "metadata": {},
   "outputs": [],
   "source": [
    "X = features_scaled\n",
    "y = df['rating_encoded']  # Target variable\n",
    "\n",
    "X_train, X_test, y_train, y_test = train_test_split(X, y, test_size=0.2, random_state=42)"
   ]
  },
  {
   "cell_type": "code",
   "execution_count": 146,
   "id": "95588f42-7650-4298-9251-c2081934d8a5",
   "metadata": {},
   "outputs": [
    {
     "name": "stdout",
     "output_type": "stream",
     "text": [
      "Accuracy: 85.04%\n"
     ]
    }
   ],
   "source": [
    "from sklearn.linear_model import LogisticRegression\n",
    "from sklearn.metrics import accuracy_score\n",
    "\n",
    "# Train the model\n",
    "model = LogisticRegression()\n",
    "model.fit(X_train, y_train)\n",
    "\n",
    "# Make predictions\n",
    "y_pred = model.predict(X_test)\n",
    "\n",
    "# Evaluate the model\n",
    "accuracy = accuracy_score(y_test, y_pred)\n",
    "print(f'Accuracy: {accuracy * 100:.2f}%')"
   ]
  },
  {
   "cell_type": "code",
   "execution_count": null,
   "id": "f15f05bc-ab3c-4fa2-86cc-69fe778dc07c",
   "metadata": {},
   "outputs": [],
   "source": []
  },
  {
   "cell_type": "code",
   "execution_count": null,
   "id": "574699b4-861d-42a1-aac1-6f0fab17684f",
   "metadata": {},
   "outputs": [],
   "source": []
  }
 ],
 "metadata": {
  "kernelspec": {
   "display_name": "Python 3 (ipykernel)",
   "language": "python",
   "name": "python3"
  },
  "language_info": {
   "codemirror_mode": {
    "name": "ipython",
    "version": 3
   },
   "file_extension": ".py",
   "mimetype": "text/x-python",
   "name": "python",
   "nbconvert_exporter": "python",
   "pygments_lexer": "ipython3",
   "version": "3.12.4"
  }
 },
 "nbformat": 4,
 "nbformat_minor": 5
}
